{
 "cells": [
  {
   "cell_type": "code",
   "execution_count": 90,
   "metadata": {},
   "outputs": [],
   "source": [
    "##IMPORT\n",
    "import requests\n",
    "import json as js\n",
    "import re\n",
    "import pandas as pd\n",
    "from bs4 import BeautifulSoup\n",
    "\n",
    "##SCRAPING\n",
    "url = \"https://decarocalzature.com/\"\n",
    "\n",
    "url_prodotti = url+\"tag-prodotto/de-caro/\"\n",
    "\n",
    "url_prodotto = url+\"prodotto/\"\n",
    "\n",
    "uri_page= \"page/\"\n",
    "\n",
    "price_product = \"<span class=woocommerce-Price-amount amount><bdi><span class=woocommerce-Price-currencySymbol>€</span>26,90</bdi></span>\"\n",
    "\n",
    "\n",
    "##GET FIRST PAGES\n",
    "\n",
    "\n",
    "#GET FIRST SUOP"
   ]
  },
  {
   "cell_type": "code",
   "execution_count": 110,
   "metadata": {},
   "outputs": [
    {
     "data": {
      "text/html": [
       "<div>\n",
       "<style scoped>\n",
       "    .dataframe tbody tr th:only-of-type {\n",
       "        vertical-align: middle;\n",
       "    }\n",
       "\n",
       "    .dataframe tbody tr th {\n",
       "        vertical-align: top;\n",
       "    }\n",
       "\n",
       "    .dataframe thead th {\n",
       "        text-align: right;\n",
       "    }\n",
       "</style>\n",
       "<table border=\"1\" class=\"dataframe\">\n",
       "  <thead>\n",
       "    <tr style=\"text-align: right;\">\n",
       "      <th></th>\n",
       "      <th>modello</th>\n",
       "      <th>categoria</th>\n",
       "      <th>prezzo</th>\n",
       "    </tr>\n",
       "  </thead>\n",
       "  <tbody>\n",
       "    <tr>\n",
       "      <th>0</th>\n",
       "      <td>Sandali Isabel tronchetto open toe con apertur...</td>\n",
       "      <td>Sandali</td>\n",
       "      <td>39.90</td>\n",
       "    </tr>\n",
       "    <tr>\n",
       "      <th>1</th>\n",
       "      <td>Décolleté Afrodite maryjane con cinturino e ta...</td>\n",
       "      <td>Décolleté</td>\n",
       "      <td>29.90</td>\n",
       "    </tr>\n",
       "    <tr>\n",
       "      <th>2</th>\n",
       "      <td>Sneakers Colin particolari con zeppa platform ...</td>\n",
       "      <td>Sneakers</td>\n",
       "      <td>22.90</td>\n",
       "    </tr>\n",
       "    <tr>\n",
       "      <th>3</th>\n",
       "      <td>Borsa Putea elegante design bauletto con tracolla</td>\n",
       "      <td>Borsa</td>\n",
       "      <td>39.90</td>\n",
       "    </tr>\n",
       "    <tr>\n",
       "      <th>4</th>\n",
       "      <td>Zainetto Babi borsa elegante a mano o in spalla</td>\n",
       "      <td>Zainetto</td>\n",
       "      <td>33.90</td>\n",
       "    </tr>\n",
       "    <tr>\n",
       "      <th>...</th>\n",
       "      <td>...</td>\n",
       "      <td>...</td>\n",
       "      <td>...</td>\n",
       "    </tr>\n",
       "    <tr>\n",
       "      <th>395</th>\n",
       "      <td>Ciabatte Amalfi vera pelle sandali bassi con f...</td>\n",
       "      <td>Ciabatte</td>\n",
       "      <td>29.90</td>\n",
       "    </tr>\n",
       "    <tr>\n",
       "      <th>396</th>\n",
       "      <td>Sandali Elisa vera pelle tacco giornaliero alt...</td>\n",
       "      <td>Sandali</td>\n",
       "      <td>49.90</td>\n",
       "    </tr>\n",
       "    <tr>\n",
       "      <th>397</th>\n",
       "      <td>Stivali Barbados vera pelle elastici laterali ...</td>\n",
       "      <td>Stivali</td>\n",
       "      <td>89.90</td>\n",
       "    </tr>\n",
       "    <tr>\n",
       "      <th>398</th>\n",
       "      <td>Sandali Amaka con zeppa alta 10 cm fasce in pe...</td>\n",
       "      <td>Sandali</td>\n",
       "      <td>49.90</td>\n",
       "    </tr>\n",
       "    <tr>\n",
       "      <th>399</th>\n",
       "      <td>Tronchetto Palloncino arricciato vera pelle co...</td>\n",
       "      <td>Tronchetto</td>\n",
       "      <td>89.90</td>\n",
       "    </tr>\n",
       "  </tbody>\n",
       "</table>\n",
       "<p>400 rows × 3 columns</p>\n",
       "</div>"
      ],
      "text/plain": [
       "                                               modello   categoria prezzo\n",
       "0    Sandali Isabel tronchetto open toe con apertur...     Sandali  39.90\n",
       "1    Décolleté Afrodite maryjane con cinturino e ta...   Décolleté  29.90\n",
       "2    Sneakers Colin particolari con zeppa platform ...    Sneakers  22.90\n",
       "3    Borsa Putea elegante design bauletto con tracolla       Borsa  39.90\n",
       "4      Zainetto Babi borsa elegante a mano o in spalla    Zainetto  33.90\n",
       "..                                                 ...         ...    ...\n",
       "395  Ciabatte Amalfi vera pelle sandali bassi con f...    Ciabatte  29.90\n",
       "396  Sandali Elisa vera pelle tacco giornaliero alt...     Sandali  49.90\n",
       "397  Stivali Barbados vera pelle elastici laterali ...     Stivali  89.90\n",
       "398  Sandali Amaka con zeppa alta 10 cm fasce in pe...     Sandali  49.90\n",
       "399  Tronchetto Palloncino arricciato vera pelle co...  Tronchetto  89.90\n",
       "\n",
       "[400 rows x 3 columns]"
      ]
     },
     "execution_count": 110,
     "metadata": {},
     "output_type": "execute_result"
    }
   ],
   "source": [
    "#titles_raw = soup.find_all(\"span\", attrs={\"class\": \"woocommerce-Price-amount amount\"})\n",
    "#titles_raw = soup.find_all(\"h2\", attrs={\"class\": \"woocommerce-loop-product__title\"})\n",
    "\n",
    "\n",
    "title_list = list()\n",
    "price_list = list()\n",
    "categorys = set()\n",
    "categorys_list = list()\n",
    "\n",
    "dict = {\"modello\": [], \"categoria\": [], \"prezzo\": []}\n",
    "\n",
    "for page in range(2,27):\n",
    "    if(page==1):\n",
    "        url_for = url_prodotti\n",
    "    else:\n",
    "        url_for = url_prodotti+uri_page+str(page)+\"/\"\n",
    "    soup = BeautifulSoup(requests.get(url_for).text)\n",
    "    product_scraped = soup.find_all(\"a\", attrs={\"class\": \"woocommerce-LoopProduct-link woocommerce-loop-product__link\"})\n",
    "    for product in product_scraped:\n",
    "        ## Popolo la lista dei prodotti\n",
    "        title = product.find(\"h2\", attrs={\"class\": \"woocommerce-loop-product__title\"}) \n",
    "        title_str = title.text.strip()\n",
    "        ## Pagina prodotto\n",
    "        #pagina_prodotto = requests.get((url_prodotto+title_str).lower().replace(\" \",\"-\")+\"/\")\n",
    "    \n",
    "        title_list.append(title_str)\n",
    "        ##Categoria\n",
    "        category = title_str.strip().split(\" \")[0]\n",
    "        categorys.add(category)\n",
    "        categorys_list.append(category)\n",
    "        \n",
    "        ## Nel caso di uno sconto come trovare quello giusto\n",
    "        ##Popolo la lista dei prezzi\n",
    "        price = product.find(\"bdi\")\n",
    "        price_str = price.text.strip().replace(\",\",\".\").replace(\"€\",\"\")\n",
    "        price_list.append(price_str)\n",
    "\n",
    "\n",
    "for modello, category, prezzo in zip(title_list,categorys_list,price_list):\n",
    "    dict[\"categoria\"].append(category)\n",
    "    dict[\"modello\"].append(modello)\n",
    "    dict[\"prezzo\"].append(prezzo)\n",
    "            \n",
    "DeCaro = pd.DataFrame(dict)\n",
    "DeCaro\n",
    "\n"
   ]
  },
  {
   "cell_type": "markdown",
   "metadata": {},
   "source": [
    "# ANALISI CATEGORIE\n",
    "\n"
   ]
  },
  {
   "cell_type": "code",
   "execution_count": 112,
   "metadata": {},
   "outputs": [
    {
     "name": "stdout",
     "output_type": "stream",
     "text": [
      "['Sandali' 'Décolleté' 'Sneakers' 'Borsa' 'Zainetto' 'Mocassini'\n",
      " 'Pochette' 'Stivaletti' 'Stivali' 'Ballerine' 'Zaino' 'Anfibi'\n",
      " 'Tronchetti' 'Bikers' 'Tronchetto' 'Francesine' 'Ciabatte' 'Zeppe'\n",
      " 'Ciabattine' 'Sabot']\n"
     ]
    },
    {
     "data": {
      "text/plain": [
       "20"
      ]
     },
     "execution_count": 112,
     "metadata": {},
     "output_type": "execute_result"
    }
   ],
   "source": [
    "print(DeCaro.categoria.unique())\n",
    "len(DeCaro.categoria.unique())\n"
   ]
  },
  {
   "cell_type": "markdown",
   "metadata": {},
   "source": [
    "# ANALISI PREZZI\n",
    "\n",
    "# ANLISI \n",
    "\n",
    "# MATERIALi"
   ]
  },
  {
   "cell_type": "code",
   "execution_count": null,
   "metadata": {},
   "outputs": [],
   "source": []
  },
  {
   "cell_type": "markdown",
   "metadata": {},
   "source": [
    "# Json da provare"
   ]
  },
  {
   "cell_type": "code",
   "execution_count": 105,
   "metadata": {},
   "outputs": [
    {
     "name": "stderr",
     "output_type": "stream",
     "text": [
      "<>:16: SyntaxWarning: invalid escape sequence '\\['\n",
      "<>:16: SyntaxWarning: invalid escape sequence '\\['\n",
      "C:\\Users\\elber\\AppData\\Local\\Temp\\ipykernel_7224\\2192475979.py:16: SyntaxWarning: invalid escape sequence '\\['\n",
      "  s = re.sub(\"\\[\\d{6}\\] = \", \"\", s)\n"
     ]
    },
    {
     "name": "stdout",
     "output_type": "stream",
     "text": [
      "0\n",
      "1\n",
      "2\n",
      "3\n",
      "4\n",
      "5\n",
      "6\n",
      "7\n",
      "8\n",
      "9\n",
      "10\n",
      "11\n",
      "12\n",
      "13\n",
      "14\n",
      "15\n",
      "16\n",
      "17\n",
      "18\n",
      "19\n",
      "20\n",
      "21\n"
     ]
    },
    {
     "data": {
      "text/plain": [
       "'{\"tiktok\":{\"delay\":0,\"type\":\"static\",\"name\":\"AddToCart\",\"pixelIds\":[\"C8UOQ1I8NA2MEC77SE60\"],\"params\":{\"post_type\":\"product\",\"product_id\":\"989066\",\"quantity\":1,\"content_name\":\"Sabot Sampa sandali con comoda zeppa platform - Bianco, 40\",\"category_name\":\"Calzature, Sandali, Sandali Alti, Zeppe\",\"value\":26.89999999999999857891452847979962825775146484375,\"currency\":\"EUR\",\"price\":26.89999999999999857891452847979962825775146484375,\"content_id\":\"989066\",\"content_type\":\"product\"},\"e_id\":\"woo_add_to_cart_on_button_click\",\"ids\":[],\"hasTimeWindow\":false,\"timeWindow\":0,\"eventID\":\"\",\"woo_order\":\"\",\"edd_order\":\"\"},\"facebook\":{\"delay\":0,\"type\":\"static\",\"name\":\"AddToCart\",\"eventID\":\"498e69b4-7143-44a7-88c5-20a1211b8f3e\",\"pixelIds\":[\"1815157742064413\"],\"params\":{\"content_type\":\"product\",\"content_ids\":[\"989066\"],\"contents\":[{\"id\":\"989066\",\"quantity\":1}],\"content_name\":\"Sabot Sampa sandali con comoda zeppa platform - Bianco, 40\",\"category_name\":\"Calzature, Sandali, Sandali Alti, Zeppe\",\"value\":26.89999999999999857891452847979962825775146484375,\"currency\":\"EUR\"},\"e_id\":\"woo_add_to_cart_on_button_click\",\"ids\":[],\"hasTimeWindow\":false,\"timeWindow\":0,\"woo_order\":\"\",\"edd_order\":\"\"},\"ga\":{\"delay\":0,\"type\":\"static\",\"name\":\"add_to_cart\",\"trackingIds\":[\"G-ZKKVF5JKP5\"],\"params\":{\"event_category\":\"ecommerce\",\"currency\":\"EUR\",\"items\":[{\"id\":\"989066\",\"name\":\"Sabot Sampa sandali con comoda zeppa platform - Bianco, 40\",\"quantity\":1,\"price\":26.89999999999999857891452847979962825775146484375,\"variant\":\"bianco\\\\/40\",\"affiliation\":\"De Caro Calzature\",\"item_category\":\"Calzature\",\"item_category2\":\"Sandali\",\"item_category3\":\"Sandali Alti\",\"item_category4\":\"Zeppe\"}],\"ecomm_prodid\":\"989066\",\"ecomm_pagetype\":\"cart\",\"ecomm_totalvalue\":26.89999999999999857891452847979962825775146484375},\"e_id\":\"woo_add_to_cart_on_button_click\",\"ids\":[],\"hasTimeWindow\":false,\"timeWindow\":0,\"eventID\":\"\",\"woo_order\":\"\",\"edd_order\":\"\"},\"pinterest\":{\"delay\":0,\"type\":\"static\",\"name\":\"AddToCart\",\"pixelIds\":[\"2613277886781\"],\"params\":{\"post_type\":\"product\",\"product_id\":\"989066\",\"product_quantity\":1,\"content_name\":\"Sabot Sampa sandali con comoda zeppa platform - Bianco, 40\",\"category_name\":\"Calzature, Sandali, Sandali Alti, Zeppe\",\"value\":26.89999999999999857891452847979962825775146484375,\"currency\":\"EUR\",\"product_price\":26.89999999999999857891452847979962825775146484375},\"e_id\":\"woo_add_to_cart_on_button_click\",\"ids\":[],\"hasTimeWindow\":false,\"timeWindow\":0,\"eventID\":\"\",\"woo_order\":\"\",\"edd_order\":\"\"}'"
      ]
     },
     "execution_count": 105,
     "metadata": {},
     "output_type": "execute_result"
    }
   ],
   "source": [
    "\n",
    "\n",
    "url_prodotto = \"https://decarocalzature.com/prodotto/sabot-sampa-sandali-con-comoda-zeppa-platform/\"\n",
    "\n",
    "pagina_prodotto = requests.get(url_prodotto)\n",
    "\n",
    "soup_prodotto = BeautifulSoup(pagina_prodotto.text)\n",
    "\n",
    "script2 = soup_prodotto.find(\"script\").text\n",
    "#[[0-9]{6,}] \n",
    "    \n",
    "scripts = script2.split(\"window.pysWooProductData\")\n",
    "jsons = list()\n",
    "counter = 0\n",
    "for s in scripts:\n",
    "    print(counter)\n",
    "    if(s.__contains__(\"{\")):\n",
    "        s = re.sub(\"\\[\\d{6}\\] = \", \"\", s)\n",
    "        s = re.sub(\";\\r\\n +\", \"\", s)\n",
    "        jsons.append(s[s.find(\"{\"):s.rfind(\"}\")])\n",
    "    counter = counter+1\n",
    "\n",
    "jsons[5]"
   ]
  },
  {
   "cell_type": "code",
   "execution_count": null,
   "metadata": {},
   "outputs": [],
   "source": [
    "script = soup_prodotto.find(\"script\").text\n",
    "script = re.sub(\"^[^{]+\\{\", \"{\", script)\n",
    "script = re.sub(\";[^;]*$\", \"\", script)\n",
    "scripts = script.split(\"                        window.pysWooProductData\")\n",
    "jsons = list()\n",
    "for s in scripts:\n",
    "    s = s.replace(\";\\r\\n\", \"\")\n",
    "    s = re.sub(\"\\[\\d{6}\\] = \", \"\", s)\n",
    "    s = js.loads( s )\n",
    "    jsons.append( s )\n",
    "df = pd.json_normalize(jsons)\n",
    "df = df.drop(columns=[\"tiktok.pixelIds\", \"tiktok.ids\", \"pinterest.ids\",\n",
    "                      \"facebook.pixelIds\", \"facebook.params.contents\",\n",
    "                      \"facebook.params.content_ids\", \"facebook.ids\",\n",
    "                      \"ga.trackingIds\", \"ga.params.items\", \"ga.ids\",\n",
    "                      \"pinterest.pixelIds\"])\n",
    "df"
   ]
  }
 ],
 "metadata": {
  "kernelspec": {
   "display_name": "Python 3",
   "language": "python",
   "name": "python3"
  },
  "language_info": {
   "codemirror_mode": {
    "name": "ipython",
    "version": 3
   },
   "file_extension": ".py",
   "mimetype": "text/x-python",
   "name": "python",
   "nbconvert_exporter": "python",
   "pygments_lexer": "ipython3",
   "version": "3.12.0"
  }
 },
 "nbformat": 4,
 "nbformat_minor": 2
}
